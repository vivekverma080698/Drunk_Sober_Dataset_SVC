{
 "cells": [
  {
   "cell_type": "code",
   "execution_count": 74,
   "metadata": {},
   "outputs": [],
   "source": [
    "import matplotlib.pyplot as plt\n",
    "import numpy as np\n",
    "import os\n",
    "from sklearn.model_selection import train_test_split\n",
    "from sklearn.metrics import classification_report,cohen_kappa_score,accuracy_score\n",
    "from sklearn import datasets, svm ,metrics\n",
    "%matplotlib inline"
   ]
  },
  {
   "cell_type": "code",
   "execution_count": 77,
   "metadata": {},
   "outputs": [
    {
     "data": {
      "text/plain": [
       "'/home/vivek'"
      ]
     },
     "execution_count": 77,
     "metadata": {},
     "output_type": "execute_result"
    }
   ],
   "source": [
    "pwd"
   ]
  },
  {
   "cell_type": "code",
   "execution_count": 78,
   "metadata": {},
   "outputs": [],
   "source": [
    "directory = '/home/vivek/LBPTOP_npy/Drunk'\n",
    "Drunk=[]\n",
    "for filename in os.listdir(directory):\n",
    "    Drunk.append(os.path.join(directory, filename))\n",
    "\n",
    "directory = '/home/vivek/LBPTOP_npy/Sober'\n",
    "Sober=[]\n",
    "for filename in os.listdir(directory):\n",
    "    Sober.append(os.path.join(directory, filename))"
   ]
  },
  {
   "cell_type": "code",
   "execution_count": 79,
   "metadata": {},
   "outputs": [],
   "source": [
    "Drunk_data = []\n",
    "for filename in Drunk:\n",
    "    file = np.load(filename)\n",
    "    Drunk_data.append(file)\n",
    "\n",
    "Drunk_data = np.array(Drunk_data)\n",
    "\n",
    "Sober_data = []\n",
    "for filename in Sober:\n",
    "    file = np.load(filename) \n",
    "    Sober_data.append(file)\n",
    "\n",
    "Sober_data = np.array(Sober_data)"
   ]
  },
  {
   "cell_type": "code",
   "execution_count": 102,
   "metadata": {},
   "outputs": [],
   "source": [
    "X = np.concatenate((Drunk_data , Sober_data))\n",
    "zeros = np.zeros(len(Drunk_data))\n",
    "ones = np.ones(len(Sober_data))\n",
    "y = np.concatenate((zeros, ones))\n",
    "X_train, X_test, y_train, y_test = train_test_split(X, y, test_size=0.15)"
   ]
  },
  {
   "cell_type": "code",
   "execution_count": 93,
   "metadata": {},
   "outputs": [],
   "source": [
    "\n",
    "#clf = svm.SVC(C=1.0, kernel='rbf',gamma=1.0)\n",
    "#clf.fit(X, y)"
   ]
  },
  {
   "cell_type": "code",
   "execution_count": 106,
   "metadata": {},
   "outputs": [
    {
     "name": "stdout",
     "output_type": "stream",
     "text": [
      "Classification report for classifier SVC(C=2.0, cache_size=800, class_weight=None, coef0=0.0,\n",
      "  decision_function_shape='ovr', degree=3, gamma=0.8, kernel='rbf',\n",
      "  max_iter=-1, probability=False, random_state=None, shrinking=True,\n",
      "  tol=0.001, verbose=False):\n",
      "             precision    recall  f1-score   support\n",
      "\n",
      "        0.0       0.78      0.73      0.75       197\n",
      "        1.0       0.81      0.85      0.83       271\n",
      "\n",
      "avg / total       0.80      0.80      0.80       468\n",
      "\n",
      "\n",
      "Confusion matrix:\n",
      "[[144  53]\n",
      " [ 41 230]]\n",
      "cohen_kappa_score   0.584534310484861\n",
      "accuracy_score   0.7991452991452992\n"
     ]
    }
   ],
   "source": [
    "clf = svm.SVC(C=2.0, kernel='rbf',gamma=0.8,cache_size=800)\n",
    "clf.fit(X_train, y_train)\n",
    "expected = y_test\n",
    "predicted = clf.predict(X_test)\n",
    "\n",
    "print(\"Classification report for classifier %s:\\n%s\\n\"% (clf, metrics.classification_report(expected, predicted)))\n",
    "print(\"Confusion matrix:\\n%s\" % metrics.confusion_matrix(expected, predicted))\n",
    "print(\"cohen_kappa_score  \",cohen_kappa_score(expected, predicted))\n",
    "print(\"accuracy_score  \",accuracy_score(expected, predicted))"
   ]
  },
  {
   "cell_type": "code",
   "execution_count": 49,
   "metadata": {},
   "outputs": [],
   "source": [
    "#print('{} mean accuray of given data set'.format(clf.score(X, y, sample_weight=None)))\n",
    "# prob = clf.predict_proba(X)\n",
    "#plt.plot(X,prob[:1]*prob[:2])\n",
    "#plt.show()"
   ]
  }
 ],
 "metadata": {
  "kernelspec": {
   "display_name": "Python 3",
   "language": "python",
   "name": "python3"
  },
  "language_info": {
   "codemirror_mode": {
    "name": "ipython",
    "version": 3
   },
   "file_extension": ".py",
   "mimetype": "text/x-python",
   "name": "python",
   "nbconvert_exporter": "python",
   "pygments_lexer": "ipython3",
   "version": "3.6.4"
  }
 },
 "nbformat": 4,
 "nbformat_minor": 2
}
