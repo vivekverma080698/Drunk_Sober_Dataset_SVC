{
 "cells": [
  {
   "cell_type": "code",
   "execution_count": 12,
   "metadata": {},
   "outputs": [
    {
     "name": "stdout",
     "output_type": "stream",
     "text": [
      "3118 3118 2650\n",
      "2650 467 2650 467\n"
     ]
    }
   ],
   "source": [
    "import numpy as np\n",
    "import random,math\n",
    "import os\n",
    "\n",
    "import matplotlib.pyplot as plt\n",
    "\n",
    "from sklearn.ensemble import AdaBoostClassifier\n",
    "from sklearn.tree import DecisionTreeClassifier\n",
    "from sklearn import metrics\n",
    "\n",
    "directory = 'LBPTOP_npy/Drunk'\n",
    "Drunk=[]\n",
    "for filename in os.listdir(directory):\n",
    "    Drunk.append(os.path.join(directory, filename))\n",
    "\n",
    "directory = 'LBPTOP_npy/Sober'\n",
    "Sober=[]\n",
    "for filename in os.listdir(directory):\n",
    "    Sober.append(os.path.join(directory, filename))\n",
    "\n",
    "Drunk_data = []\n",
    "for filename in Drunk:\n",
    "    file = np.load(filename)\n",
    "    Drunk_data.append(file)\n",
    "\n",
    "Drunk_data = np.array(Drunk_data)\n",
    "\n",
    "Sober_data = []\n",
    "for filename in Sober:\n",
    "    file = np.load(filename) \n",
    "    Sober_data.append(file)\n",
    "\n",
    "Sober_data = np.array(Sober_data)\n",
    "\n",
    "X = np.concatenate((Drunk_data , Sober_data))\n",
    "zeros = np.zeros(len(Drunk_data))\n",
    "ones = np.ones(len(Sober_data))\n",
    "y = np.concatenate((zeros, ones))\n",
    "\n",
    "c = list(zip(X, y))\n",
    "random.shuffle(c)\n",
    "X, y = zip(*c)\n",
    "\n",
    "#print(len(X),len(y))\n",
    "fraction = 0.85 #size of train\n",
    "\n",
    "num_of_Train_exp = math.floor(len(X)*(fraction))\n",
    "print(len(X),len(y),num_of_Train_exp)\n",
    "#X_train, X_test, y_train, y_test = train_test_split(X, y, test_size=0.15)\n",
    "\n",
    "X_train = X[0:num_of_Train_exp]\n",
    "X_test = X[num_of_Train_exp:-1]\n",
    "y_train = y[0:num_of_Train_exp]\n",
    "y_test = y[num_of_Train_exp:-1]\n",
    "print(len(X_train),len(X_test),len(y_train),len(y_test))"
   ]
  },
  {
   "cell_type": "code",
   "execution_count": 13,
   "metadata": {},
   "outputs": [],
   "source": [
    "def evaluate_on_test_data(model=None):\n",
    "    predictions = model.predict(X_test)\n",
    "    correct_classifications = 0\n",
    "    for i in range(len(y_test)):\n",
    "        if predictions[i] == y_test[i]:\n",
    "            correct_classifications += 1\n",
    "    accuracy = 100*correct_classifications/len(y_test) #Accuracy as a percentage\n",
    "    return accuracy\n"
   ]
  },
  {
   "cell_type": "code",
   "execution_count": 14,
   "metadata": {},
   "outputs": [
    {
     "name": "stdout",
     "output_type": "stream",
     "text": [
      "86.7237687366167 % accuracy obtained with kernel = rbf\n",
      "Classification report for classifier AdaBoostClassifier(algorithm='SAMME',\n",
      "          base_estimator=DecisionTreeClassifier(class_weight=None, criterion='gini', max_depth=1,\n",
      "            max_features=None, max_leaf_nodes=None,\n",
      "            min_impurity_decrease=0.0, min_impurity_split=None,\n",
      "            min_samples_leaf=1, min_samples_split=2,\n",
      "            min_weight_fraction_leaf=0.0, presort=False, random_state=None,\n",
      "            splitter='best'),\n",
      "          learning_rate=1.0, n_estimators=200, random_state=None):\n",
      "             precision    recall  f1-score   support\n",
      "\n",
      "        0.0       0.87      0.81      0.84       196\n",
      "        1.0       0.87      0.91      0.89       271\n",
      "\n",
      "avg / total       0.87      0.87      0.87       467\n",
      "\n",
      "\n",
      "Confusion matrix:\n",
      "[[158  38]\n",
      " [ 24 247]]\n"
     ]
    }
   ],
   "source": [
    "bdt = AdaBoostClassifier(DecisionTreeClassifier(max_depth=1),algorithm=\"SAMME\",n_estimators=200)\n",
    "bdt.fit(X_train, y_train)\n",
    "acc = evaluate_on_test_data(bdt)\n",
    "print(\"{} % accuracy obtained AdaBoost\".format(acc))\n",
    "expected = y_test\n",
    "predicted = bdt.predict(X_test)\n",
    "print(\"Classification report for classifier %s:\\n%s\\n\"% (bdt, metrics.classification_report(expected, predicted)))\n",
    "print(\"Confusion matrix:\\n%s\" % metrics.confusion_matrix(expected, predicted))\n"
   ]
  },
  {
   "cell_type": "code",
   "execution_count": null,
   "metadata": {},
   "outputs": [],
   "source": []
  }
 ],
 "metadata": {
  "kernelspec": {
   "display_name": "Python 3",
   "language": "python",
   "name": "python3"
  },
  "language_info": {
   "codemirror_mode": {
    "name": "ipython",
    "version": 3
   },
   "file_extension": ".py",
   "mimetype": "text/x-python",
   "name": "python",
   "nbconvert_exporter": "python",
   "pygments_lexer": "ipython3",
   "version": "3.6.5"
  }
 },
 "nbformat": 4,
 "nbformat_minor": 2
}
