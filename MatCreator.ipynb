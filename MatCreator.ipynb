{
 "cells": [
  {
   "cell_type": "code",
   "execution_count": 6,
   "metadata": {},
   "outputs": [],
   "source": [
    "import numpy as np\n",
    "import pandas as pd\n",
    "import scipy.io as sio"
   ]
  },
  {
   "cell_type": "code",
   "execution_count": 19,
   "metadata": {},
   "outputs": [
    {
     "name": "stdout",
     "output_type": "stream",
     "text": [
      "   frame   face_id   timestamp   confidence   success   gaze_0_x   gaze_0_y  \\\n",
      "0      1         0       0.000          0.0         0        0.0        0.0   \n",
      "1      2         0       0.042          0.0         0        0.0        0.0   \n",
      "2      3         0       0.083          0.0         0        0.0        0.0   \n",
      "3      4         0       0.125          0.0         0        0.0        0.0   \n",
      "4      5         0       0.167          0.0         0        0.0        0.0   \n",
      "\n",
      "    gaze_0_z   gaze_1_x   gaze_1_y   ...      AU12_c   AU14_c   AU15_c  \\\n",
      "0        0.0        0.0        0.0   ...         0.0      0.0      0.0   \n",
      "1        0.0        0.0        0.0   ...         0.0      0.0      0.0   \n",
      "2        0.0        0.0        0.0   ...         0.0      0.0      0.0   \n",
      "3        0.0        0.0        0.0   ...         0.0      0.0      0.0   \n",
      "4        0.0        0.0        0.0   ...         0.0      0.0      0.0   \n",
      "\n",
      "    AU17_c   AU20_c   AU23_c   AU25_c   AU26_c   AU28_c   AU45_c  \n",
      "0      0.0      0.0      0.0      0.0      0.0      0.0      0.0  \n",
      "1      0.0      0.0      0.0      0.0      0.0      0.0      0.0  \n",
      "2      0.0      0.0      0.0      0.0      0.0      0.0      0.0  \n",
      "3      0.0      0.0      0.0      0.0      0.0      0.0      0.0  \n",
      "4      0.0      0.0      0.0      0.0      0.0      0.0      0.0  \n",
      "\n",
      "[5 rows x 714 columns]\n",
      "[[1.    0.    0.    ... 0.    0.    0.   ]\n",
      " [2.    0.    0.042 ... 0.    0.    0.   ]\n",
      " [3.    0.    0.083 ... 0.    0.    0.   ]\n",
      " [4.    0.    0.125 ... 0.    0.    0.   ]\n",
      " [5.    0.    0.167 ... 0.    0.    0.   ]]\n"
     ]
    }
   ],
   "source": [
    "file = 'videoplayback.mp4_29_73.mp4_aligned.mp4_1.csv'\n",
    "def createMATfile(file):\n",
    "    df = pd.read_csv(file)\n",
    "    \n",
    "    \n",
    "    \n",
    "#     csv_file = df.values\n",
    "    dimen = csv_file.shape\n",
    "    rows = dimen[0]\n",
    "    columns = dimen[1]\n",
    "#     vect = np.arange(10)\n",
    "#     sio.savemat('np_vector.mat', {'vect':vect})\n",
    "#     =numpy.array()\n",
    "    i = 0\n",
    "    print(df.head())\n",
    "    fff= df.head()\n",
    "    fpo = fff.values\n",
    "    print(fpo)\n",
    "#     print(len(csv_file[0]))\n",
    "#     while i<rows:\n",
    "#         print(csv_file[i])\n",
    "#         i = i + 1\n",
    "#         break\n",
    "        \n",
    "createMATfile(file)"
   ]
  },
  {
   "cell_type": "code",
   "execution_count": null,
   "metadata": {},
   "outputs": [],
   "source": []
  }
 ],
 "metadata": {
  "kernelspec": {
   "display_name": "Python 3",
   "language": "python",
   "name": "python3"
  },
  "language_info": {
   "codemirror_mode": {
    "name": "ipython",
    "version": 3
   },
   "file_extension": ".py",
   "mimetype": "text/x-python",
   "name": "python",
   "nbconvert_exporter": "python",
   "pygments_lexer": "ipython3",
   "version": "3.6.5"
  }
 },
 "nbformat": 4,
 "nbformat_minor": 2
}
