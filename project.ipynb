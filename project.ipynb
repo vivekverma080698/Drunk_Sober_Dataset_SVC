{
 "cells": [
  {
   "cell_type": "code",
   "execution_count": 5,
   "metadata": {},
   "outputs": [],
   "source": [
    "from sklearn.cluster import KMeans\n",
    "import csv\n",
    "import numpy\n",
    "import pandas\n",
    "import os"
   ]
  },
  {
   "cell_type": "code",
   "execution_count": 12,
   "metadata": {},
   "outputs": [
    {
     "name": "stdout",
     "output_type": "stream",
     "text": [
      "/home/black/pipeline_4_July/5secout/2015-10-15-15-14_3 .csv\n",
      "[319.14309392 321.03922652 326.39281768 332.07679558 334.7679558\n",
      " 333.27513812 327.51933702 321.82872928 311.04917127 314.55082873\n",
      " 319.5480663  325.8160221  332.04309392 336.72154696 340.10165746\n",
      " 336.62209945 331.4801105  325.63038674 320.02320442 314.97845304\n",
      " 324.68563536 327.14640884 329.47403315 330.2961326  329.13259669\n",
      " 326.66519337 324.34198895 323.52154696 399.84530387 401.95966851\n",
      " 407.68618785 413.66519337 416.39558011 414.2801105  408.55856354\n",
      " 402.10552486 392.7160221  396.58508287 401.74033149 407.91436464\n",
      " 413.75524862 418.45856354 422.00331492 418.70497238 414.15082873\n",
      " 408.67127072 402.61491713 396.92375691 405.38674033 408.05027624\n",
      " 410.59889503 411.53977901 410.32320442 407.66685083 405.11491713\n",
      " 404.17624309 243.34475138 237.56077348 234.83038674 236.74309392\n",
      " 242.18121547 248.29668508 250.69944751 248.7839779  245.04364641\n",
      " 242.57016575 240.85359116 239.59668508 239.77679558 241.0558011\n",
      " 243.26464088 245.67348066 247.04972376 247.92872928 247.94917127\n",
      " 247.08674033 245.28950276 246.12928177 244.94640884 242.43701657\n",
      " 240.07403315 239.23977901 240.42430939 242.92983425 238.14640884\n",
      " 232.09171271 229.59060773 232.10552486 238.16740331 244.22762431\n",
      " 246.72651934 244.66574586 239.88674033 237.23812155 235.49281768\n",
      " 234.86740331 235.56850829 236.9359116  239.11160221 241.22707182\n",
      " 242.38342541 242.86187845 242.56298343 241.84696133 240.98674033\n",
      " 242.10441989 240.99447514 238.30276243 235.60165746 234.48121547\n",
      " 235.59116022 238.28232044] [324.5, 326.5, 331.7, 337.2, 339.7, 338.2, 332.5, 327.0, 318.6, 321.4, 325.8, 331.5, 337.7, 342.5, 346.0, 342.2, 336.9, 331.2, 326.1, 321.7, 330.1, 332.5, 334.8, 335.7, 334.6, 332.1, 329.8, 329.0, 403.5, 405.7, 411.2, 416.5, 418.8, 416.5, 411.1, 405.2, 397.1, 400.7, 405.6, 411.8, 417.5, 421.6, 424.2, 421.5, 417.5, 412.5, 406.8, 401.2, 408.4, 410.8, 413.2, 414.1, 413.2, 410.8, 408.5, 407.5, 219.6, 213.9, 211.2, 213.1, 218.6, 224.7, 227.0, 225.1, 221.7, 218.6, 216.5, 215.3, 216.0, 218.0, 221.1, 223.1, 224.0, 224.5, 224.4, 223.6, 221.9, 222.7, 221.5, 219.0, 216.6, 215.7, 216.9, 219.4, 216.6, 210.9, 208.7, 211.3, 217.2, 222.8, 225.0, 222.8, 219.6, 216.4, 214.2, 213.3, 214.4, 216.3, 219.3, 221.2, 222.1, 222.3, 222.0, 221.3, 219.4, 220.6, 219.6, 217.1, 214.6, 213.5, 214.4, 216.9]\n",
      "[11, 321, 337, 339, 355, 356, 372, 373, 374, 376, 388, 394, 395, 417, 445, 446, 447, 485, 492, 503, 569, 574, 605, 613, 649, 673, 675, 713, 714, 734, 741, 742, 747, 748, 761, 763, 798, 803]\n"
     ]
    }
   ],
   "source": [
    "input_folder = '/home/black/pipeline_4_July/5secout'\n",
    "\n",
    "def processCSV_file(input_folder):\n",
    "    for f in os.listdir(input_folder):\n",
    "        filePath = os.path.join(input_folder, f)\n",
    "        if (f[-4:] == '.csv'):\n",
    "            do_further_processing(filePath);\n",
    "            break\n",
    "\n",
    "def do_further_processing(filePath):\n",
    "    try:\n",
    "        print(filePath)\n",
    "        with open(filePath) as csvfile:\n",
    "            reader = pandas.read_csv(csvfile)\n",
    "            landmarkX = ' eye_lmk_x_'\n",
    "            landmarkY = ' eye_lmk_y_'\n",
    "            frame = []\n",
    "            #print(reader)\n",
    "            for index, row in reader.iterrows():\n",
    "                listx = []\n",
    "                listy = []\n",
    "                for i in range(56):\n",
    "                    landmarkx = landmarkX + str(i) \n",
    "                    landmarky = landmarkY + str(i) \n",
    "                    valuex = row[landmarkx].tolist();\n",
    "                    listx.append(valuex)\n",
    "                    valuey = row[landmarky].tolist();\n",
    "                    listy.append(valuey)\n",
    "                listx = listx + listy\n",
    "                frame.append(listx)\n",
    "            find_K_cluster(frame)\n",
    "    except:\n",
    "        print('File not Found ',filePath)\n",
    "\n",
    "def find_K_cluster(frame):\n",
    "    kmeans = KMeans(n_clusters=10, random_state=0).fit(frame)\n",
    "    #print(kmeans.cluster_centers_)\n",
    "    search = kmeans.cluster_centers_\n",
    "    print(search[0],frame[0])\n",
    "    print([i for i, e in enumerate(frame) if e in search])\n",
    "\n",
    "processCSV_file(input_folder)"
   ]
  },
  {
   "cell_type": "code",
   "execution_count": null,
   "metadata": {},
   "outputs": [],
   "source": []
  }
 ],
 "metadata": {
  "kernelspec": {
   "display_name": "Python 3",
   "language": "python",
   "name": "python3"
  },
  "language_info": {
   "codemirror_mode": {
    "name": "ipython",
    "version": 3
   },
   "file_extension": ".py",
   "mimetype": "text/x-python",
   "name": "python",
   "nbconvert_exporter": "python",
   "pygments_lexer": "ipython3",
   "version": "3.6.5"
  }
 },
 "nbformat": 4,
 "nbformat_minor": 2
}
