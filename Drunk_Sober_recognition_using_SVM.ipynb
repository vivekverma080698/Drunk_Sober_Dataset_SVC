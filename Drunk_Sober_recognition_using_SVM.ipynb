{
 "cells": [
  {
   "cell_type": "code",
   "execution_count": 25,
   "metadata": {},
   "outputs": [],
   "source": [
    "import matplotlib.pyplot as plt\n",
    "import numpy as np\n",
    "import os\n",
    "from sklearn import datasets, svm\n",
    "%matplotlib inline"
   ]
  },
  {
   "cell_type": "code",
   "execution_count": 13,
   "metadata": {},
   "outputs": [
    {
     "data": {
      "text/plain": [
       "'/home/vivek'"
      ]
     },
     "execution_count": 13,
     "metadata": {},
     "output_type": "execute_result"
    }
   ],
   "source": [
    "pwd"
   ]
  },
  {
   "cell_type": "code",
   "execution_count": 128,
   "metadata": {},
   "outputs": [
    {
     "name": "stdout",
     "output_type": "stream",
     "text": [
      "1345\n",
      "1773\n"
     ]
    }
   ],
   "source": [
    "directory = '/home/vivek/LBPTOP_npy/Drunk'\n",
    "Drunk=[]\n",
    "for filename in os.listdir(directory):\n",
    "    Drunk.append(os.path.join(directory, filename))\n",
    "\n",
    "directory = '/home/vivek/LBPTOP_npy/Sober'\n",
    "Sober=[]\n",
    "for filename in os.listdir(directory):\n",
    "    Sober.append(os.path.join(directory, filename))\n",
    "    \n",
    "print(len(Drunk))\n",
    "print(len(Sober))"
   ]
  },
  {
   "cell_type": "code",
   "execution_count": 129,
   "metadata": {},
   "outputs": [],
   "source": [
    "Drunk_data = []\n",
    "for filename in Drunk:\n",
    "    file = np.load(filename)\n",
    "    Drunk_data.append(file)\n",
    "\n",
    "Drunk_data = np.array(Drunk_data)\n",
    "\n",
    "Sober_data = []\n",
    "for filename in Sober:\n",
    "    file = np.load(filename) \n",
    "    Sober_data.append(file)\n",
    "\n",
    "Sober_data = np.array(Sober_data)"
   ]
  },
  {
   "cell_type": "code",
   "execution_count": 126,
   "metadata": {},
   "outputs": [
    {
     "name": "stdout",
     "output_type": "stream",
     "text": [
      "0.5686337395766518 mean accuray of given data set\n"
     ]
    }
   ],
   "source": [
    "clf = svm.SVC(C=1.0, kernel='rbf',gamma=0.1)\n",
    "X = np.concatenate((Drunk_data , Sober_data),axis=0)\n",
    "zeros = np.zeros(len(Drunk_data))\n",
    "ones = np.ones(len(Sober_data))\n",
    "y = np.concatenate((zeros, ones), axis=0)\n",
    "clf.fit(X, y)\n",
    "print('{} mean accuray of given data set'.format(clf.score(X, y, sample_weight=None)))"
   ]
  }
 ],
 "metadata": {
  "kernelspec": {
   "display_name": "Python 3",
   "language": "python",
   "name": "python3"
  },
  "language_info": {
   "codemirror_mode": {
    "name": "ipython",
    "version": 3
   },
   "file_extension": ".py",
   "mimetype": "text/x-python",
   "name": "python",
   "nbconvert_exporter": "python",
   "pygments_lexer": "ipython3",
   "version": "3.6.4"
  }
 },
 "nbformat": 4,
 "nbformat_minor": 2
}
