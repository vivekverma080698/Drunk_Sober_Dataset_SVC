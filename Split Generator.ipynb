{
 "cells": [
  {
   "cell_type": "code",
   "execution_count": 17,
   "metadata": {},
   "outputs": [],
   "source": [
    "import numpy as np\n",
    "from pandas import DataFrame, read_csv\n",
    "import pandas as pd\n",
    "import csv\n",
    "import shutil\n",
    "import os"
   ]
  },
  {
   "cell_type": "code",
   "execution_count": 18,
   "metadata": {},
   "outputs": [],
   "source": [
    "path = 'extended_dataset/10s_extended_dataset/train_test_sets/'"
   ]
  },
  {
   "cell_type": "code",
   "execution_count": 19,
   "metadata": {},
   "outputs": [],
   "source": [
    "kfoldDir = []\n",
    "for i in os.listdir(path):\n",
    "    kfoldDir.append(path+i)"
   ]
  },
  {
   "cell_type": "code",
   "execution_count": 59,
   "metadata": {},
   "outputs": [],
   "source": [
    "featuresLocationDrunk = '/home/lasii/Vivek/OpenFace Ext/Videos/Features/10sec/Drunk/'\n",
    "featuresLocationSober = '/home/lasii/Vivek/OpenFace Ext/Videos/Features/10sec/Drunk/'\n",
    "for name in kfoldDir:\n",
    "    splitfileLoc = []\n",
    "    for spiltfiles in os.listdir(name):\n",
    "        df = pd.read_csv(name+'/'+spiltfiles, delimiter=',',header=None)\n",
    "        csv_file = df.values\n",
    "        dimen = csv_file.shape\n",
    "        rows = dimen[0]\n",
    "        columns = dimen[1]\n",
    "        i=0\n",
    "        train_and_drunk=[]\n",
    "        train_and_sober=[]\n",
    "        test_and_drunk=[]\n",
    "        test_and_sober=[]\n",
    "\n",
    "        train_and_drunk_name=[]\n",
    "        train_and_sober_name=[]\n",
    "        test_and_drunk_name=[]\n",
    "        test_and_sober_name=[]\n",
    "        while i < rows:\n",
    "            if(csv_file[i][0].lower() == 'train' and csv_file[i][1].lower() == 'drunk'):\n",
    "                train_and_drunk.append(featuresLocationDrunk+csv_file[i][2][:-4]+'.csv')\n",
    "                train_and_drunk_name.append(csv_file[i][2][:-4]+'.csv')\n",
    "                \n",
    "            elif(csv_file[i][0].lower() == 'train' and csv_file[i][1].lower() == 'sober'):\n",
    "                train_and_sober.append(featuresLocationSober+csv_file[i][2][:-4]+'.csv')\n",
    "                train_and_sober_name.append(csv_file[i][2][:-4]+'.csv')\n",
    "                \n",
    "            elif(csv_file[i][0].lower() == 'test' and csv_file[i][1].lower() == 'drunk'):\n",
    "                test_and_drunk.append(featuresLocationDrunk+csv_file[i][2][:-4]+'.csv')\n",
    "                test_and_drunk_name.append(csv_file[i][2][:-4]+'.csv')\n",
    "                \n",
    "            elif(csv_file[i][0].lower() == 'test' and csv_file[i][1].lower() == 'sober'):\n",
    "                test_and_sober.append(featuresLocationSober+csv_file[i][2][:-4]+'.csv')\n",
    "                test_and_sober_name.append(csv_file[i][2][:-4]+'.csv')\n",
    "                \n",
    "            elif(csv_file[i][0].lower() == 'val' and csv_file[i][1].lower() == 'drunk'):\n",
    "                train_and_drunk.append(featuresLocationDrunk+csv_file[i][2][:-4]+'.csv')\n",
    "                test_and_drunk_name.append(csv_file[i][2][:-4]+'.csv')\n",
    "                \n",
    "            elif(csv_file[i][0].lower() == 'val' and csv_file[i][1].lower() == 'sober'):\n",
    "                train_and_sober.append(featuresLocationSober+csv_file[i][2][:-4]+'.csv')\n",
    "                test_and_sober_name.append(csv_file[i][2][:-4]+'.csv')\n",
    "            i = i+1\n",
    "\n",
    "        \n",
    "        for src,dst in zip(train_and_drunk,train_and_drunk_name):\n",
    "            try:\n",
    "                dst1 = './O_'+name+'/'+spiltfiles[:-4]+'/Train/Drunk/'\n",
    "                if not os.path.exists(dst1):\n",
    "                    os.makedirs(dst1)\n",
    "                shutil.copy2(src, dst1)\n",
    "            except FileNotFoundError:\n",
    "                print('error')\n",
    "                continue\n",
    "\n",
    "        for src,dst in zip(train_and_sober,train_and_sober_name):\n",
    "            try:\n",
    "                dst1 = './O_'+name+'/'+spiltfiles[:-4]+'/Train/Sober/'\n",
    "#                 print(src,dst1)\n",
    "                if not os.path.exists(dst1):\n",
    "                    os.makedirs(dst1)\n",
    "                shutil.copy2(src, dst1)\n",
    "            except FileNotFoundError:\n",
    "                continue\n",
    "\n",
    "                \n",
    "        for src,dst in zip(test_and_drunk,test_and_drunk_name):\n",
    "            try:\n",
    "                dst1 = './O_'+name+'/'+spiltfiles[:-4]+'/Test/Drunk/'\n",
    "#                 print(src,dst1)\n",
    "                if not os.path.exists(dst1):\n",
    "                    os.makedirs(dst1)\n",
    "                shutil.copy2(src, dst1)\n",
    "            except FileNotFoundError:\n",
    "                continue\n",
    "\n",
    "                \n",
    "        for src,dst in zip(test_and_sober,test_and_sober_name):\n",
    "            try:\n",
    "                dst1 = './O_'+name+'/'+spiltfiles[:-4]+'/Test/Sober/'\n",
    "#                 print(src,dst1)\n",
    "                if not os.path.exists(dst1):\n",
    "                    os.makedirs(dst1)\n",
    "                shutil.copy2(src, dst1)\n",
    "            except FileNotFoundError:\n",
    "                continue\n",
    "\n",
    "                \n",
    "                "
   ]
  },
  {
   "cell_type": "code",
   "execution_count": 56,
   "metadata": {},
   "outputs": [
    {
     "data": {
      "text/plain": [
       "'/home/lasii/Vivek/OpenFace Ext/O_extended_dataset/10s_extended_dataset/train_test_sets/5/split_2341_332_522/Drunk/videoplayback.mp4_29_73.mp4_aligned.mp4_1.csv'"
      ]
     },
     "execution_count": 56,
     "metadata": {},
     "output_type": "execute_result"
    }
   ],
   "source": []
  },
  {
   "cell_type": "code",
   "execution_count": 29,
   "metadata": {},
   "outputs": [
    {
     "data": {
      "text/plain": [
       "'/home/lasii/Vivek/OpenFace Ext'"
      ]
     },
     "execution_count": 29,
     "metadata": {},
     "output_type": "execute_result"
    }
   ],
   "source": []
  },
  {
   "cell_type": "code",
   "execution_count": null,
   "metadata": {},
   "outputs": [],
   "source": []
  }
 ],
 "metadata": {
  "kernelspec": {
   "display_name": "Python 3",
   "language": "python",
   "name": "python3"
  },
  "language_info": {
   "codemirror_mode": {
    "name": "ipython",
    "version": 3
   },
   "file_extension": ".py",
   "mimetype": "text/x-python",
   "name": "python",
   "nbconvert_exporter": "python",
   "pygments_lexer": "ipython3",
   "version": "3.6.5"
  }
 },
 "nbformat": 4,
 "nbformat_minor": 2
}
