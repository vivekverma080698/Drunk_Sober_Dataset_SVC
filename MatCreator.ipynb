{
 "cells": [
  {
   "cell_type": "code",
   "execution_count": 2,
   "metadata": {},
   "outputs": [],
   "source": [
    "import numpy as np\n",
    "import pandas as pd\n",
    "import scipy.io as sio"
   ]
  },
  {
   "cell_type": "code",
   "execution_count": 67,
   "metadata": {},
   "outputs": [
    {
     "data": {
      "text/plain": [
       "array([[-0.086286,  0.183381, -0.979248, ..., -0.845   , -0.29    ,\n",
       "         0.272   ],\n",
       "       [-0.119206,  0.286282, -0.950701, ..., -0.43    , -0.38    ,\n",
       "         0.298   ],\n",
       "       [-0.116912,  0.274409, -0.95448 , ..., -0.47    , -0.331   ,\n",
       "         0.32    ],\n",
       "       ...,\n",
       "       [-0.079703, -0.111896, -0.990518, ..., -0.259   , -0.226   ,\n",
       "        -0.008   ],\n",
       "       [-0.07983 , -0.121146, -0.989419, ..., -0.3     , -0.247   ,\n",
       "         0.053   ],\n",
       "       [-0.108117, -0.146922, -0.983221, ..., -0.288   , -0.198   ,\n",
       "         0.035   ]])"
      ]
     },
     "execution_count": 67,
     "metadata": {},
     "output_type": "execute_result"
    }
   ],
   "source": [
    "file = 'MY DRUNK GIRLFRIEND - nowthisisliving - YouTube_Drunk.mp4_61.0.avi_aligned.avi.csv'\n",
    "def createMATfile(file):\n",
    "    df = pd.read_csv(file)\n",
    "    deleteList = []\n",
    "    for i in range(0,5):\n",
    "        deleteList.append(df.columns[i]) \n",
    "    for i in range(125,293):\n",
    "        deleteList.append(df.columns[i]) \n",
    "    for i in range(435,639):\n",
    "        deleteList.append(df.columns[i]) \n",
    "    for i in range(679,714):\n",
    "        deleteList.append(df.columns[i]) \n",
    "    df.drop(deleteList, axis=1,inplace=True)\n",
    "    column_names = df.columns\n",
    "    eyegaze = column_names[0:8]\n",
    "    eyelandmarkX = column_names[8:64]\n",
    "    eyelandmarkY = column_names[64:120]\n",
    "    facePose = column_names[120:126]\n",
    "    landmarkX = column_names[126:194]\n",
    "    landmarkY = column_names[194:262]\n",
    "    pdm = column_names[262:]\n",
    "    \n",
    "    eyeLandX_Y = []\n",
    "    for i in range(0,56):    \n",
    "        eyeLandX_Y.append(eyelandmarkX[i])\n",
    "        eyeLandX_Y.append(eyelandmarkY[i])\n",
    "\n",
    "    faceLandX_Y = []\n",
    "    for i in range(0,68):    \n",
    "        faceLandX_Y.append(landmarkX[i])\n",
    "        faceLandX_Y.append(landmarkY[i])\n",
    "    \n",
    "    finalSeq = list(eyegaze) + list(eyeLandX_Y) + list(facePose) + list(faceLandX_Y) + list(pdm)\n",
    "    df = df[finalSeq]\n",
    "    return np.array(df.values)\n",
    "    \n",
    "createMATfile(file)"
   ]
  },
  {
   "cell_type": "code",
   "execution_count": null,
   "metadata": {},
   "outputs": [],
   "source": []
  }
 ],
 "metadata": {
  "kernelspec": {
   "display_name": "Python 3",
   "language": "python",
   "name": "python3"
  },
  "language_info": {
   "codemirror_mode": {
    "name": "ipython",
    "version": 3
   },
   "file_extension": ".py",
   "mimetype": "text/x-python",
   "name": "python",
   "nbconvert_exporter": "python",
   "pygments_lexer": "ipython3",
   "version": "3.6.5"
  }
 },
 "nbformat": 4,
 "nbformat_minor": 2
}
